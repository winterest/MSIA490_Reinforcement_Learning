{
  "nbformat": 4,
  "nbformat_minor": 0,
  "metadata": {
    "colab": {
      "name": "MSIA490_RL_HW1_Xiaoyi_Liu.ipynb",
      "provenance": [],
      "collapsed_sections": [
        "TxBAaxpf6fpC"
      ],
      "machine_shape": "hm"
    },
    "kernelspec": {
      "name": "python3",
      "display_name": "Python 3"
    }
  },
  "cells": [
    {
      "cell_type": "markdown",
      "metadata": {
        "id": "r3s27T5_6Mxr",
        "colab_type": "text"
      },
      "source": [
        "# Problem 1\n",
        " Consider shuttle dispatching problem in which a dispatcher is responsible to decide whether or not to dispatch a shuttle at each decision epoch depending on number of customers waiting for the service. A standard shuttle dispatch problem has following parameters:\n",
        "\n",
        "K = The capacity of a shuttle if it is dispatched. \n",
        "\n",
        "At = A random variable giving the number of customers arriving during time interval t. \n",
        "\n",
        "cf = The cost of dispatching a shuttle. \n",
        "\n",
        "ch = The cost per customer left waiting per time period.\n",
        "\n",
        "Given K = 15, cf = 100, ch = 2 and assuming that At follows unif{1,5}, model the problem and solve it using:\n",
        "\n",
        "a) Enumeration (with time period $T =500$) \n",
        "\n",
        "b) Value iteration ($T = \\infty$) \n",
        "\n",
        "c) Policy iteration.\n",
        "\n",
        "You can assume that number of people in station can not exceed 200 and discount rate γ = 0.95.\n"
      ]
    },
    {
      "cell_type": "markdown",
      "metadata": {
        "id": "76T3yNi96Sh1",
        "colab_type": "text"
      },
      "source": [
        "## Libraries"
      ]
    },
    {
      "cell_type": "code",
      "metadata": {
        "id": "iz_cluC86Pum",
        "colab_type": "code",
        "colab": {}
      },
      "source": [
        "import numpy as np\n",
        "import matplotlib.pyplot as plt"
      ],
      "execution_count": 0,
      "outputs": []
    },
    {
      "cell_type": "markdown",
      "metadata": {
        "id": "FLmOpcYh6VgI",
        "colab_type": "text"
      },
      "source": [
        "## Constant"
      ]
    },
    {
      "cell_type": "code",
      "metadata": {
        "id": "bMWd_Z1n6d-p",
        "colab_type": "code",
        "colab": {}
      },
      "source": [
        "K = 15\n",
        "c_f = 100\n",
        "c_h = 2\n",
        "gamma = 0.95\n",
        "max_customer = 200\n",
        "\n",
        "T = 500"
      ],
      "execution_count": 0,
      "outputs": []
    },
    {
      "cell_type": "markdown",
      "metadata": {
        "id": "TxBAaxpf6fpC",
        "colab_type": "text"
      },
      "source": [
        "## Rewards function"
      ]
    },
    {
      "cell_type": "code",
      "metadata": {
        "id": "JYiZJybt6jYI",
        "colab_type": "code",
        "colab": {}
      },
      "source": [
        "def r(s,a):\n",
        "    \"\"\"\n",
        "    s: number of current waiting customer 0-max_customer\n",
        "    a: if or not dispatch a shuttle {0,1}\n",
        "    \"\"\"\n",
        "    return -(a*c_f + max(0,s-a*K)*c_h)\n",
        "    "
      ],
      "execution_count": 0,
      "outputs": []
    },
    {
      "cell_type": "markdown",
      "metadata": {
        "id": "YdTMqH7BmxEU",
        "colab_type": "text"
      },
      "source": [
        "## Part (a) Enumeration\n",
        "\n",
        "For part (a), plot optimal value function at time 0 versus number of customers waiting."
      ]
    },
    {
      "cell_type": "code",
      "metadata": {
        "id": "fBUt31BcAv9r",
        "colab_type": "code",
        "colab": {}
      },
      "source": [
        "V = np.zeros((T+2,max_customer+1)) # value function, size of [time, #customer]\n",
        "\n",
        "for t in range(T,-1,-1):\n",
        "    for s in range(max_customer+1):\n",
        "        v_a = [0, 0]\n",
        "        for a in [0,1]:\n",
        "            s_next = [min(max_customer, max(s-a*K,0)+i) for i in range(1,6)]\n",
        "            v_a[a] = r(s,a) + gamma * np.mean(V[t+1,s_next])\n",
        "        V[t,s] = max(v_a)\n",
        "\n"
      ],
      "execution_count": 0,
      "outputs": []
    },
    {
      "cell_type": "code",
      "metadata": {
        "id": "mbwoExTvDpwk",
        "colab_type": "code",
        "outputId": "05cb729d-daaf-418d-b4fc-e7d709eb9355",
        "colab": {
          "base_uri": "https://localhost:8080/",
          "height": 295
        }
      },
      "source": [
        "plt.figure()\n",
        "plt.plot(V[0, :])\n",
        "plt.xlabel(\"number of customers\")\n",
        "plt.title(\"Enumeration: optimal value function at time 0\")\n",
        "plt.show()"
      ],
      "execution_count": 0,
      "outputs": [
        {
          "output_type": "display_data",
          "data": {
            "image/png": "[encoded data removed]",
            "text/plain": [
              "<Figure size 432x288 with 1 Axes>"
            ]
          },
          "metadata": {
            "tags": []
          }
        }
      ]
    },
    {
      "cell_type": "markdown",
      "metadata": {
        "id": "L0vSztXJ6lmy",
        "colab_type": "text"
      },
      "source": [
        "## part (b)\n",
        "For part (b), plot optimal value function versus number of customers waiting."
      ]
    },
    {
      "cell_type": "code",
      "metadata": {
        "id": "H1IBTnFII6PW",
        "colab_type": "code",
        "outputId": "f2a141bb-a794-4143-d32a-1aaf7ec0eeba",
        "colab": {
          "base_uri": "https://localhost:8080/",
          "height": 102
        }
      },
      "source": [
        "max_iter = 1000\n",
        "eps = 1e-6\n",
        "interval = 100\n",
        "\n",
        "V = np.zeros((2,max_customer+1)) # value iteration. [cur, next]\n",
        "\n",
        "for i in range(max_iter):\n",
        "    V[1] = V[0]\n",
        "    for s in range(max_customer+1):\n",
        "        v_a = [0, 0]\n",
        "        for a in [0,1]:\n",
        "            s_next = [min(max_customer, max(s-a*K,0)+i) for i in range(1,6)]\n",
        "            v_a[a] = r(s,a) + gamma * np.mean(V[1,s_next])\n",
        "        V[0,s] = max(v_a)\n",
        "    if (np.linalg.norm(V[0]-V[1]) < eps):\n",
        "        break\n",
        "    if (i%interval == 0):\n",
        "        print(i,np.linalg.norm(V[0]-V[1]))\n",
        "        \n",
        "print(\"Converged at #iteration = %d, residual = %f\"%(i, np.linalg.norm(V[0]-V[1])))"
      ],
      "execution_count": 0,
      "outputs": [
        {
          "output_type": "stream",
          "text": [
            "0 3278.2312304045913\n",
            "100 2.849879646666814\n",
            "200 0.01687279572192988\n",
            "300 9.989588043432436e-05\n",
            "Converged at #iteration = 390, residual = 0.000001\n"
          ],
          "name": "stdout"
        }
      ]
    },
    {
      "cell_type": "code",
      "metadata": {
        "id": "_MQDB9oHU-8Z",
        "colab_type": "code",
        "outputId": "8162e026-d295-49c4-c997-21f55c79e929",
        "colab": {
          "base_uri": "https://localhost:8080/",
          "height": 295
        }
      },
      "source": [
        "plt.figure()\n",
        "plt.plot(V[0, :])\n",
        "plt.xlabel(\"number of customers\")\n",
        "plt.title(\"Value Iteration: optimal value function at time 0\")\n",
        "plt.show()"
      ],
      "execution_count": 0,
      "outputs": [
        {
          "output_type": "display_data",
          "data": {
            "image/png": "[encoded data removed]",
            "text/plain": [
              "<Figure size 432x288 with 1 Axes>"
            ]
          },
          "metadata": {
            "tags": []
          }
        }
      ]
    },
    {
      "cell_type": "markdown",
      "metadata": {
        "id": "gmBzLbTs6nua",
        "colab_type": "text"
      },
      "source": [
        "## part (c)\n",
        "For part (c), plot optimal policy versus number of customers waiting."
      ]
    },
    {
      "cell_type": "code",
      "metadata": {
        "id": "5TT0VhU66p2M",
        "colab_type": "code",
        "outputId": "8b9aafa8-acc2-4fc2-e9af-2296dcfef1ae",
        "colab": {
          "base_uri": "https://localhost:8080/",
          "height": 136
        }
      },
      "source": [
        "def prob(policy):\n",
        "    P = np.zeros((max_customer+1, max_customer+1))\n",
        "    for s in range(max_customer+1):        \n",
        "        a = policy[s]\n",
        "        idx = max(s-a*K, 0) + 1\n",
        "        for i in range(5):\n",
        "            P[s, min(max_customer, idx+i)] += 1/5\n",
        "    return P\n",
        "\n",
        "pi = np.zeros((2,max_customer+1)).astype(int)\n",
        "\n",
        "for i in range(max_iter):\n",
        "    P = prob(pi[0])\n",
        "    R = np.zeros(max_customer+1)\n",
        "    for s in range(max_customer+1):\n",
        "        R[s] = r(s, pi[0,s])\n",
        "    A = np.eye(max_customer+1) - gamma*P\n",
        "    b = np.mat(R).transpose()\n",
        "    V = np.array(np.linalg.solve(A, b).transpose())[0]\n",
        "    \n",
        "    pi[1] = pi[0]\n",
        "    for s in range(max_customer+1):\n",
        "        v_a = [0, 0]\n",
        "        for a in [0, 1]:\n",
        "            \n",
        "            s_next = [min(max_customer, max(s-a*K,0)+i) for i in range(1,6)]\n",
        "            v_a[a] = r(s,a) + gamma * np.mean(V[s_next])\n",
        "            \n",
        "        pi[0,s] = np.argmax(v_a)\n",
        "    print(i, np.linalg.norm(pi[0]-pi[1]) )\n",
        "    if np.linalg.norm(pi[0]-pi[1]) < eps:\n",
        "        break\n",
        "print(\"Converged at #iteration = %d, residual = %f\"%(i, np.linalg.norm(pi[0]-pi[1])))"
      ],
      "execution_count": 0,
      "outputs": [
        {
          "output_type": "stream",
          "text": [
            "0 14.0\n",
            "1 5.291502622129181\n",
            "2 4.69041575982343\n",
            "3 2.6457513110645907\n",
            "4 1.0\n",
            "5 0.0\n",
            "Converged at #iteration = 5, residual = 0.000000\n"
          ],
          "name": "stdout"
        }
      ]
    },
    {
      "cell_type": "code",
      "metadata": {
        "id": "mlNnbdwaXkrE",
        "colab_type": "code",
        "outputId": "f6f2c42b-005a-4a93-9d9f-6ef26bbbe928",
        "colab": {
          "base_uri": "https://localhost:8080/"
        }
      },
      "source": [
        "plt.figure()\n",
        "#plt.scatter(enumerate([pi[0]]))\n",
        "plt.plot(pi[0])\n",
        "plt.xlabel(\"number of customers\")\n",
        "plt.ylabel(\"optimal policy\")\n",
        "plt.show()\n",
        "\n",
        "print('optimal policy: ', policy)"
      ],
      "execution_count": 0,
      "outputs": [
        {
          "output_type": "display_data",
          "data": {
            "image/png": "[encoded data removed]",
            "text/plain": [
              "<Figure size 432x288 with 1 Axes>"
            ]
          },
          "metadata": {
            "tags": []
          }
        },
        {
          "output_type": "stream",
          "text": [
            "optimal policy:  [0 0 0 0 0 0 0 0 0 0 0 0 0 1 1 1 1 1 1 1 1 1 1 1 1 1 1 1 1 1 1 1 1 1 1 1 1\n",
            " 1 1 1 1 1 1 1 1 1 1 1 1 1 1 1 1 1 1 1 1 1 1 1 1 1 1 1 1 1 1 1 1 1 1 1 1 1\n",
            " 1 1 1 1 1 1 1 1 1 1 1 1 1 1 1 1 1 1 1 1 1 1 1 1 1 1 1 1 1 1 1 1 1 1 1 1 1\n",
            " 1 1 1 1 1 1 1 1 1 1 1 1 1 1 1 1 1 1 1 1 1 1 1 1 1 1 1 1 1 1 1 1 1 1 1 1 1\n",
            " 1 1 1 1 1 1 1 1 1 1 1 1 1 1 1 1 1 1 1 1 1 1 1 1 1 1 1 1 1 1 1 1 1 1 1 1 1\n",
            " 1 1 1 1 1 1 1 1 1 1 1 1 1 1 1 1]\n"
          ],
          "name": "stdout"
        }
      ]
    },
    {
      "cell_type": "code",
      "metadata": {
        "id": "BKaqY1GGsvpb",
        "colab_type": "code",
        "outputId": "4a7706ce-f2c8-464a-86a6-a29e399175c5",
        "colab": {
          "base_uri": "https://localhost:8080/"
        }
      },
      "source": [
        "plt.figure()\n",
        "plt.plot(V)\n",
        "plt.xlabel(\"number of customers\")\n",
        "plt.title(\"Policy Iteration: optimal value function at time 0\")\n",
        "plt.show()"
      ],
      "execution_count": 0,
      "outputs": [
        {
          "output_type": "display_data",
          "data": {
            "image/png": "[encoded data removed]",
            "text/plain": [
              "<Figure size 432x288 with 1 Axes>"
            ]
          },
          "metadata": {
            "tags": []
          }
        }
      ]
    },
    {
      "cell_type": "code",
      "metadata": {
        "id": "yI5HEFBFmnYs",
        "colab_type": "code",
        "colab": {}
      },
      "source": [
        ""
      ],
      "execution_count": 0,
      "outputs": []
    },
    {
      "cell_type": "markdown",
      "metadata": {
        "id": "V1RQBVmnm7Fy",
        "colab_type": "text"
      },
      "source": [
        "# Problem 2"
      ]
    },
    {
      "cell_type": "markdown",
      "metadata": {
        "id": "HPol4Jh_obAH",
        "colab_type": "text"
      },
      "source": [
        "The differences from problem 1 are:\n",
        "* There are 5 types of customers with $c_h = \\{1,1.5,2,2.5,3\\}$\n",
        "* each type customer cannot exceed 100.\n",
        "* K = 30."
      ]
    },
    {
      "cell_type": "markdown",
      "metadata": {
        "id": "cxnOIFyVpIqo",
        "colab_type": "text"
      },
      "source": [
        ""
      ]
    },
    {
      "cell_type": "markdown",
      "metadata": {
        "id": "WzN2TQSCVsHS",
        "colab_type": "text"
      },
      "source": [
        "## Due to the huge memory usage, I have to reduce two dimensions of this problem"
      ]
    },
    {
      "cell_type": "code",
      "metadata": {
        "id": "wEFuebZYe7g9",
        "colab_type": "code",
        "colab": {}
      },
      "source": [
        "max_customer_each = 20  # this is reduced to 20 in order to speed up the computation\n",
        "c_f = -100\n",
        "c_h = [-1, -1.5, -2] \n",
        "K = 10\n",
        "gamma = 0.95\n",
        "num_types = len(c_h)   \n",
        "num_states = pow(max_customer_each+1, num_types)  \n",
        "T = 100"
      ],
      "execution_count": 0,
      "outputs": []
    },
    {
      "cell_type": "code",
      "metadata": {
        "id": "Fc6klA9ze0Ta",
        "colab_type": "code",
        "colab": {}
      },
      "source": [
        "def reward(s, a):   # reward function\n",
        "    res = int(sum(a)>0) * c_f\n",
        "    for i in range(num_types):\n",
        "        res += max(s[i] - a[i], 0) * c_h[i]\n",
        "    return res\n",
        "\n",
        "\n",
        "# encode the states S[3,4,5,6,7] into 3*pow(101, 0) + 4*pow(101, 1) + ^ + 7*pow(101, 5)\n",
        "num_states = pow(max_customer_each + 1,num_types)\n",
        "\n",
        "def encode_list(list_state):\n",
        "    state = 0\n",
        "    for i in range(num_types):\n",
        "        state += list_state[i] * pow(max_customer_each+1, i)\n",
        "    return(state)\n",
        "\n",
        "def decode_state(state):\n",
        "    #state_tmp = state.copy()\n",
        "    list_state = [0]*num_types\n",
        "    for i in range(num_types):\n",
        "        list_state[i] = state%(max_customer_each+1)\n",
        "        state = state//(max_customer_each+1)\n",
        "    return(list_state)\n",
        "\n",
        "\n",
        "def available_action(s):\n",
        "    res = [[0 for i in range(num_types)]]\n",
        "    a = [0 for i in range(num_types)]\n",
        "    for i in range(len(s)-1, -1, -1):\n",
        "        if s[i] > 0:\n",
        "            a[i] = min(K-sum(a), s[i])\n",
        "            if sum(a) == K:\n",
        "                break\n",
        "    res.append(a)\n",
        "    return res\n",
        "\n",
        "\n",
        "def gen_next_states(s, a):\n",
        "    # find the indices of all possible next states\n",
        "    res_ = []    \n",
        "    for i in range(num_types):\n",
        "        res_.append(list(range(max(s[i]-a[i], 0)+1, max(s[i]-a[i], 0)+4)))    \n",
        "    for i in range(num_types):\n",
        "        for j in range(len(res_[i])):\n",
        "            if res_[i][j] > max_customer_each:\n",
        "                res_[i][j] = max_customer_each\n",
        "    list_res = [a*pow(max_customer_each,2)+b*(max_customer_each+1)+c for a in res_[0] for b in res_[1] for c in res_[2]]\n",
        "    return list_res"
      ],
      "execution_count": 0,
      "outputs": []
    },
    {
      "cell_type": "code",
      "metadata": {
        "id": "Bz-os0HXe2Vn",
        "colab_type": "code",
        "colab": {}
      },
      "source": [
        "V = np.zeros((2,num_states))\n",
        "\n",
        "for i in range(T, -1, -1):\n",
        "    V[1] = V[0]\n",
        "    for s in range(num_states):\n",
        "        state_list = decode_state(s)\n",
        "        possible_value = [0, 0]\n",
        "        for action_idx in [0, 1]:\n",
        "            a = available_action(state_list)[action_idx]\n",
        "            next_state_idx = gen_next_states(state_list, a)\n",
        "            possible_value[action_idx] = gamma*V[1,next_state_idx].mean() + reward(state_list, a)\n",
        "        V[0,s] = max(possible_value)"
      ],
      "execution_count": 0,
      "outputs": []
    },
    {
      "cell_type": "code",
      "metadata": {
        "id": "P9SgRYFdfOmE",
        "colab_type": "code",
        "outputId": "8c5d778b-3e29-4564-ce60-e322c4536f88",
        "colab": {
          "base_uri": "https://localhost:8080/",
          "height": 269
        }
      },
      "source": [
        "plt.figure()\n",
        "plt.plot(V[0])\n",
        "plt.show()\n"
      ],
      "execution_count": 0,
      "outputs": [
        {
          "output_type": "display_data",
          "data": {
            "image/png": "[encoded data removed]",
            "text/plain": [
              "<Figure size 432x288 with 1 Axes>"
            ]
          },
          "metadata": {
            "tags": []
          }
        }
      ]
    },
    {
      "cell_type": "markdown",
      "metadata": {
        "id": "KTmLvmZnlYop",
        "colab_type": "text"
      },
      "source": [
        "## Part(b)"
      ]
    },
    {
      "cell_type": "code",
      "metadata": {
        "id": "4Y7gF9XDj1Xj",
        "colab_type": "code",
        "colab": {}
      },
      "source": [
        "V = np.zeros((2,num_states))\n",
        "max_iter = 500\n",
        "eps = 1e-6 \n",
        "interval = 100\n",
        "for i in range(max_iter):\n",
        "    V[1] = V[0]\n",
        "    for s in range(num_states):\n",
        "        state_list = decode_state(s)\n",
        "        possible_value = [0, 0]\n",
        "        for action_idx in [0, 1]:\n",
        "            a = available_action(state_list)[action_idx]\n",
        "            next_state_idx = gen_next_states(state_list, a)\n",
        "            possible_value[action_idx] = gamma*V[1,next_state_idx].mean() + reward(state_list, a)\n",
        "        V[0,s] = max(possible_value)\n",
        "    if i % interval == 0:\n",
        "        print(i, np.linalg.norm(V[0]-V[1]))\n",
        "    if np.linalg.norm(V[0]-V[1]) < eps:\n",
        "        break"
      ],
      "execution_count": 0,
      "outputs": []
    },
    {
      "cell_type": "code",
      "metadata": {
        "id": "pchcmh-klCup",
        "colab_type": "code",
        "colab": {
          "base_uri": "https://localhost:8080/",
          "height": 269
        },
        "outputId": "294ed0cc-683a-4dbd-fc35-feafb95b7cf2"
      },
      "source": [
        "plt.figure()\n",
        "plt.plot(V[0])\n",
        "plt.show()"
      ],
      "execution_count": 19,
      "outputs": [
        {
          "output_type": "display_data",
          "data": {
            "image/png": "[encoded data removed]",
            "text/plain": [
              "<Figure size 432x288 with 1 Axes>"
            ]
          },
          "metadata": {
            "tags": []
          }
        }
      ]
    },
    {
      "cell_type": "markdown",
      "metadata": {
        "id": "cC-HIgjIlWjs",
        "colab_type": "text"
      },
      "source": [
        "## Part(c)"
      ]
    },
    {
      "cell_type": "code",
      "metadata": {
        "id": "aQgoWgTHlPH6",
        "colab_type": "code",
        "colab": {
          "base_uri": "https://localhost:8080/",
          "height": 612
        },
        "outputId": "588b557f-e729-470d-ba61-a9b3ac574a6b"
      },
      "source": [
        "V = np.zeros((2,num_states))\n",
        "pi = np.zeros(num_states)\n",
        "max_iter = 500\n",
        "interval = 10\n",
        "for i in range(max_iter):\n",
        "    V[1] = V[0]\n",
        "\n",
        "    for s in range(num_states):\n",
        "        state_list = decode_state(s)\n",
        "        a_idx = pi[s]\n",
        "        a = available_action(state_list)[int(a_idx)]\n",
        "        next_state_idx = gen_next_states(state_list, a)\n",
        "        next_value = gamma*V[1,next_state_idx].mean() + reward(state_list, a)\n",
        "        V[0, s] = next_value\n",
        "        \n",
        "    # Policy update\n",
        "    for s in range(num_states):\n",
        "        state_list = decode_state(s)\n",
        "        possible_value = [0, 0]\n",
        "        for a in [0, 1]:\n",
        "            al = available_action(state_list)[a]\n",
        "            next_state_idx = gen_next_states(state_list, al)\n",
        "            possible_value[a] = gamma*V[0, next_state_idx].mean() + reward(state_list, al)\n",
        "        pi[s] = np.argmax(possible_value)\n",
        "    \n",
        "    if i % interval == 0:\n",
        "        print(i, np.linalg.norm(V[0]-V[1]))\n",
        "    if np.linalg.norm(V[0]-V[1]) < 1e-6*np.sqrt(num_states):\n",
        "        break"
      ],
      "execution_count": 18,
      "outputs": [
        {
          "output_type": "stream",
          "text": [
            "0 4606.0186169836525\n",
            "10 2646.6253746299094\n",
            "20 1584.7921945340215\n",
            "30 948.9082360379376\n",
            "40 568.1468103061503\n",
            "50 340.1704683062822\n",
            "60 203.67262440655873\n",
            "70 121.94632372610813\n",
            "80 73.01376861887671\n",
            "90 43.716040345131994\n",
            "100 26.174408191865844\n",
            "110 15.671585047174585\n",
            "120 9.383156864159\n",
            "130 5.61804262123988\n",
            "140 3.363729643552132\n",
            "150 2.013989191205799\n",
            "160 1.205849724001663\n",
            "170 0.721986772930444\n",
            "180 0.43228015059463415\n",
            "190 0.2588220942612065\n",
            "200 0.154966348525106\n",
            "210 0.09278407720088433\n",
            "220 0.055553254393309055\n",
            "230 0.03326178550011948\n",
            "240 0.019915059644299946\n",
            "250 0.011923881856354242\n",
            "260 0.007139268526505411\n",
            "270 0.004274543785838009\n",
            "280 0.0025593272629023736\n",
            "290 0.0015323637717308933\n",
            "300 0.0009174827940601398\n",
            "310 0.0005493308399253053\n",
            "320 0.0003289046654998318\n",
            "330 0.000196927372849136\n",
            "340 0.00011790769252589074\n"
          ],
          "name": "stdout"
        }
      ]
    },
    {
      "cell_type": "code",
      "metadata": {
        "id": "CAtHZVYflUAa",
        "colab_type": "code",
        "colab": {
          "base_uri": "https://localhost:8080/",
          "height": 269
        },
        "outputId": "608ff0e0-c7ca-45b2-e3c3-ce3047a1cf8f"
      },
      "source": [
        "plt.figure()\n",
        "plt.plot(V[0])\n",
        "plt.show()"
      ],
      "execution_count": 22,
      "outputs": [
        {
          "output_type": "display_data",
          "data": {
            "image/png": "[encoded data removed]",
            "text/plain": [
              "<Figure size 432x288 with 1 Axes>"
            ]
          },
          "metadata": {
            "tags": []
          }
        }
      ]
    }
  ]
}